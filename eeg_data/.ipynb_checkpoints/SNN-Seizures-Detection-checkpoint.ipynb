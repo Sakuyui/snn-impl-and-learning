{
 "cells": [
  {
   "cell_type": "code",
   "execution_count": 10,
   "id": "b81a3a68-e519-4771-be00-8de4c678115a",
   "metadata": {},
   "outputs": [],
   "source": [
    "import numpy as np\n",
    "import mne\n",
    "import os, sys\n",
    "import re\n",
    "import pandas as pd"
   ]
  },
  {
   "cell_type": "code",
   "execution_count": 2,
   "id": "d148955f-785a-4777-bb10-624023105c62",
   "metadata": {},
   "outputs": [],
   "source": [
    "base_data_path = \"./chb-mit-scalp-eeg-database-1.0.0\""
   ]
  },
  {
   "cell_type": "code",
   "execution_count": 11,
   "id": "6ee03e55-2b0e-40ed-8dd1-1ad513acfc90",
   "metadata": {},
   "outputs": [
    {
     "ename": "ModuleNotFoundError",
     "evalue": "No module named 'dataset'",
     "output_type": "error",
     "traceback": [
      "\u001b[1;31m---------------------------------------------------------------------------\u001b[0m",
      "\u001b[1;31mModuleNotFoundError\u001b[0m                       Traceback (most recent call last)",
      "Cell \u001b[1;32mIn[11], line 1\u001b[0m\n\u001b[1;32m----> 1\u001b[0m \u001b[38;5;28;01mfrom\u001b[39;00m \u001b[38;5;21;01mdataset\u001b[39;00m\u001b[38;5;21;01m.\u001b[39;00m\u001b[38;5;21;01mchbmit\u001b[39;00m\u001b[38;5;21;01m.\u001b[39;00m\u001b[38;5;21;01mchb_mit_dataset\u001b[39;00m \u001b[38;5;28;01mimport\u001b[39;00m CHBMITDataset\n",
      "\u001b[1;31mModuleNotFoundError\u001b[0m: No module named 'dataset'"
     ]
    }
   ],
   "source": [
    "from dataset.chbmit.chb_mit_dataset import CHBMITDataset"
   ]
  },
  {
   "cell_type": "code",
   "execution_count": null,
   "id": "2ac626cc-fb75-4e06-8bf7-2cd5e3adf9cd",
   "metadata": {},
   "outputs": [],
   "source": []
  },
  {
   "cell_type": "code",
   "execution_count": 48,
   "id": "b51d00d1-ff7e-47a5-801f-5bb53af59437",
   "metadata": {},
   "outputs": [],
   "source": []
  },
  {
   "cell_type": "code",
   "execution_count": 164,
   "id": "2719eeb6-4dcd-40b4-8780-108267989b03",
   "metadata": {},
   "outputs": [],
   "source": []
  },
  {
   "cell_type": "code",
   "execution_count": 165,
   "id": "f77f43a9-e58c-437b-bab8-35af62371928",
   "metadata": {},
   "outputs": [],
   "source": [
    "dataset = CHBMITDataset(base_data_path)"
   ]
  },
  {
   "cell_type": "code",
   "execution_count": null,
   "id": "dbb748fa-7241-40b4-a802-c1eb1f8b892f",
   "metadata": {},
   "outputs": [],
   "source": []
  },
  {
   "cell_type": "code",
   "execution_count": null,
   "id": "645759fd-40c5-4909-b108-f43fbe342483",
   "metadata": {},
   "outputs": [],
   "source": []
  },
  {
   "cell_type": "code",
   "execution_count": null,
   "id": "f1f7fea7-afed-4b43-9d35-1ed4ccace152",
   "metadata": {},
   "outputs": [],
   "source": []
  },
  {
   "cell_type": "code",
   "execution_count": null,
   "id": "bc75ba88-63f2-450a-9f0b-fb43d1712775",
   "metadata": {},
   "outputs": [],
   "source": []
  },
  {
   "cell_type": "code",
   "execution_count": 7,
   "id": "9b11f82d-5a02-41b0-8c1b-2d85f9337c2a",
   "metadata": {},
   "outputs": [],
   "source": [
    "p = =-086543wq V,MN BV/;Patient(1)"
   ]
  },
  {
   "cell_type": "code",
   "execution_count": 9,
   "id": "9f92fdd4-0385-437d-9023-90e72a6e3e0c",
   "metadata": {},
   "outputs": [
    {
     "name": "stdout",
     "output_type": "stream",
     "text": [
      "Reading EEG data from file ./chb-mit-scalp-eeg-database-1.0.0/chb01\\chb01_01.edf\n",
      "Reading EEG data from file ./chb-mit-scalp-eeg-database-1.0.0/chb01\\chb01_02.edf\n",
      "Reading EEG data from file ./chb-mit-scalp-eeg-database-1.0.0/chb01\\chb01_03.edf\n",
      "Reading EEG data from file ./chb-mit-scalp-eeg-database-1.0.0/chb01\\chb01_04.edf\n",
      "Reading EEG data from file ./chb-mit-scalp-eeg-database-1.0.0/chb01\\chb01_05.edf\n",
      "Reading EEG data from file ./chb-mit-scalp-eeg-database-1.0.0/chb01\\chb01_06.edf\n",
      "Reading EEG data from file ./chb-mit-scalp-eeg-database-1.0.0/chb01\\chb01_07.edf\n",
      "Reading EEG data from file ./chb-mit-scalp-eeg-database-1.0.0/chb01\\chb01_08.edf\n",
      "Reading EEG data from file ./chb-mit-scalp-eeg-database-1.0.0/chb01\\chb01_09.edf\n",
      "Reading EEG data from file ./chb-mit-scalp-eeg-database-1.0.0/chb01\\chb01_10.edf\n"
     ]
    },
    {
     "ename": "KeyboardInterrupt",
     "evalue": "",
     "output_type": "error",
     "traceback": [
      "\u001b[1;31m---------------------------------------------------------------------------\u001b[0m",
      "\u001b[1;31mKeyboardInterrupt\u001b[0m                         Traceback (most recent call last)",
      "Cell \u001b[1;32mIn[9], line 1\u001b[0m\n\u001b[1;32m----> 1\u001b[0m \u001b[43mp\u001b[49m\u001b[38;5;241;43m.\u001b[39;49m\u001b[43mget_eeg_data\u001b[49m\u001b[43m(\u001b[49m\u001b[43m)\u001b[49m\n",
      "Cell \u001b[1;32mIn[5], line 37\u001b[0m, in \u001b[0;36mPatient.get_eeg_data\u001b[1;34m(self)\u001b[0m\n\u001b[0;32m     35\u001b[0m         data \u001b[38;5;241m=\u001b[39m file\u001b[38;5;241m.\u001b[39mget_data()\n\u001b[0;32m     36\u001b[0m     \u001b[38;5;28;01melse\u001b[39;00m:\n\u001b[1;32m---> 37\u001b[0m         data \u001b[38;5;241m=\u001b[39m np\u001b[38;5;241m.\u001b[39mvstack((data, \u001b[43mfile\u001b[49m\u001b[38;5;241;43m.\u001b[39;49m\u001b[43mget_data\u001b[49m\u001b[43m(\u001b[49m\u001b[43m)\u001b[49m))\n\u001b[0;32m     39\u001b[0m \u001b[38;5;28;01mreturn\u001b[39;00m data\n",
      "Cell \u001b[1;32mIn[3], line 79\u001b[0m, in \u001b[0;36mChbEdfFile.get_data\u001b[1;34m(self)\u001b[0m\n\u001b[0;32m     77\u001b[0m output_data \u001b[38;5;241m=\u001b[39m np\u001b[38;5;241m.\u001b[39mzeros((\u001b[38;5;28mself\u001b[39m\u001b[38;5;241m.\u001b[39mget_n_data_points(), \u001b[38;5;28mself\u001b[39m\u001b[38;5;241m.\u001b[39mget_n_channels()))\n\u001b[0;32m     78\u001b[0m \u001b[38;5;28;01mfor\u001b[39;00m i \u001b[38;5;129;01min\u001b[39;00m \u001b[38;5;28mrange\u001b[39m(\u001b[38;5;28mself\u001b[39m\u001b[38;5;241m.\u001b[39mget_n_channels()):\n\u001b[1;32m---> 79\u001b[0m     output_data[:,i] \u001b[38;5;241m=\u001b[39m \u001b[38;5;28;43mself\u001b[39;49m\u001b[38;5;241;43m.\u001b[39;49m\u001b[43m_file\u001b[49m\u001b[38;5;241;43m.\u001b[39;49m\u001b[43mreadSignal\u001b[49m\u001b[43m(\u001b[49m\u001b[43mi\u001b[49m\u001b[43m)\u001b[49m\n\u001b[0;32m     80\u001b[0m \u001b[38;5;28;01mreturn\u001b[39;00m output_data\n",
      "\u001b[1;31mKeyboardInterrupt\u001b[0m: "
     ]
    }
   ],
   "source": [
    "\n",
    "p.get_eeg_data()"
   ]
  },
  {
   "cell_type": "code",
   "execution_count": null,
   "id": "320d1b0f-9356-4f5d-bbc7-45f4e99bf882",
   "metadata": {},
   "outputs": [],
   "source": []
  }
 ],
 "metadata": {
  "kernelspec": {
   "display_name": "Python 3 (ipykernel)",
   "language": "python",
   "name": "python3"
  },
  "language_info": {
   "codemirror_mode": {
    "name": "ipython",
    "version": 3
   },
   "file_extension": ".py",
   "mimetype": "text/x-python",
   "name": "python",
   "nbconvert_exporter": "python",
   "pygments_lexer": "ipython3",
   "version": "3.9.0"
  }
 },
 "nbformat": 4,
 "nbformat_minor": 5
}
